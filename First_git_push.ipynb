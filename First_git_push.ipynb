{
 "cells": [
  {
   "cell_type": "markdown",
   "id": "f41d2eeb",
   "metadata": {},
   "source": [
    "# Day 3\n",
    "\n",
    "* Data Types\n",
    "    * Numbers\n",
    "    * Strings\n",
    "    * Variable Assignment\n",
    "    * Printing\n",
    "    * Strings methods\n",
    "    * Lists\n",
    "    * Dictionaries\n",
    "    * Boolians\n",
    "    * Tuples\n",
    "    * Sets\n",
    "* Basic Operations\n",
    "    * Comparison\n",
    "    * if, elif, else statements\n",
    "    * for loops\n",
    "    * while loops\n",
    "    * range()\n",
    "    * linspace()\n",
    "    * list comprehension\n",
    "    * functions\n",
    "    * lambda epressions\n",
    "    * map & filter\n",
    "    \n"
   ]
  },
  {
   "cell_type": "markdown",
   "id": "2e6fa31b",
   "metadata": {},
   "source": [
    "## Numbers"
   ]
  },
  {
   "cell_type": "code",
   "execution_count": 1,
   "id": "2c9a990d",
   "metadata": {},
   "outputs": [
    {
     "data": {
      "text/plain": [
       "4"
      ]
     },
     "execution_count": 1,
     "metadata": {},
     "output_type": "execute_result"
    }
   ],
   "source": [
    "1+3"
   ]
  },
  {
   "cell_type": "code",
   "execution_count": 2,
   "id": "52ca4d32",
   "metadata": {},
   "outputs": [
    {
     "data": {
      "text/plain": [
       "18"
      ]
     },
     "execution_count": 2,
     "metadata": {},
     "output_type": "execute_result"
    }
   ],
   "source": [
    "(1+5)*(5-2)"
   ]
  },
  {
   "cell_type": "code",
   "execution_count": 3,
   "id": "d6c630f9",
   "metadata": {},
   "outputs": [
    {
     "data": {
      "text/plain": [
       "9"
      ]
     },
     "execution_count": 3,
     "metadata": {},
     "output_type": "execute_result"
    }
   ],
   "source": [
    "3**2"
   ]
  },
  {
   "cell_type": "markdown",
   "id": "5b70896d",
   "metadata": {},
   "source": [
    "This $\\%$ will return the remainder of the operation"
   ]
  },
  {
   "cell_type": "code",
   "execution_count": 4,
   "id": "20438fdf",
   "metadata": {},
   "outputs": [
    {
     "data": {
      "text/plain": [
       "1"
      ]
     },
     "execution_count": 4,
     "metadata": {},
     "output_type": "execute_result"
    }
   ],
   "source": [
    "13%3"
   ]
  },
  {
   "cell_type": "code",
   "execution_count": 5,
   "id": "721b6232",
   "metadata": {},
   "outputs": [
    {
     "data": {
      "text/plain": [
       "3"
      ]
     },
     "execution_count": 5,
     "metadata": {},
     "output_type": "execute_result"
    }
   ],
   "source": [
    "15//4"
   ]
  },
  {
   "cell_type": "code",
   "execution_count": 6,
   "id": "741d0021",
   "metadata": {},
   "outputs": [
    {
     "data": {
      "text/plain": [
       "1"
      ]
     },
     "execution_count": 6,
     "metadata": {},
     "output_type": "execute_result"
    }
   ],
   "source": [
    "# This will return an integer as the quotient\n",
    "3//2"
   ]
  },
  {
   "cell_type": "code",
   "execution_count": 7,
   "id": "eee1b1cc",
   "metadata": {},
   "outputs": [
    {
     "data": {
      "text/plain": [
       "float"
      ]
     },
     "execution_count": 7,
     "metadata": {},
     "output_type": "execute_result"
    }
   ],
   "source": [
    "type(2.17327489)"
   ]
  },
  {
   "cell_type": "code",
   "execution_count": 8,
   "id": "a3775202",
   "metadata": {},
   "outputs": [
    {
     "data": {
      "text/plain": [
       "float"
      ]
     },
     "execution_count": 8,
     "metadata": {},
     "output_type": "execute_result"
    }
   ],
   "source": [
    "type(-3.4)"
   ]
  },
  {
   "cell_type": "code",
   "execution_count": 9,
   "id": "9d73e18b",
   "metadata": {},
   "outputs": [
    {
     "data": {
      "text/plain": [
       "float"
      ]
     },
     "execution_count": 9,
     "metadata": {},
     "output_type": "execute_result"
    }
   ],
   "source": [
    "type((2)**0.5)"
   ]
  },
  {
   "cell_type": "code",
   "execution_count": 10,
   "id": "c32d9082",
   "metadata": {},
   "outputs": [
    {
     "data": {
      "text/plain": [
       "float"
      ]
     },
     "execution_count": 10,
     "metadata": {},
     "output_type": "execute_result"
    }
   ],
   "source": [
    "type((16)**0.5)\n"
   ]
  },
  {
   "cell_type": "code",
   "execution_count": 11,
   "id": "a35ffbd3",
   "metadata": {},
   "outputs": [
    {
     "name": "stdout",
     "output_type": "stream",
     "text": [
      "I am a string and I am in a single quotation\n"
     ]
    }
   ],
   "source": [
    "# Strings are sequences of alpha character data.\n",
    "print('I am a string and I am in a single quotation')"
   ]
  },
  {
   "cell_type": "code",
   "execution_count": 12,
   "id": "54e5a2a1",
   "metadata": {},
   "outputs": [
    {
     "data": {
      "text/plain": [
       "str"
      ]
     },
     "execution_count": 12,
     "metadata": {},
     "output_type": "execute_result"
    }
   ],
   "source": [
    "type('I am a string and I am in a single quotation')"
   ]
  },
  {
   "cell_type": "code",
   "execution_count": 13,
   "id": "6d0a2437",
   "metadata": {},
   "outputs": [
    {
     "name": "stdout",
     "output_type": "stream",
     "text": [
      "I am a string and I am in double quotation\n"
     ]
    }
   ],
   "source": [
    "print(\"I am a string and I am in double quotation\")"
   ]
  },
  {
   "cell_type": "code",
   "execution_count": 14,
   "id": "c2e0d633",
   "metadata": {},
   "outputs": [
    {
     "data": {
      "text/plain": [
       "str"
      ]
     },
     "execution_count": 14,
     "metadata": {},
     "output_type": "execute_result"
    }
   ],
   "source": [
    "type(\"I am a string and I am in double quotation\")"
   ]
  },
  {
   "cell_type": "code",
   "execution_count": 15,
   "id": "7b3758f6",
   "metadata": {},
   "outputs": [
    {
     "data": {
      "text/plain": [
       "str"
      ]
     },
     "execution_count": 15,
     "metadata": {},
     "output_type": "execute_result"
    }
   ],
   "source": [
    "type(\" \")"
   ]
  },
  {
   "cell_type": "markdown",
   "id": "7f2d0750",
   "metadata": {},
   "source": [
    "# Variable Assignment"
   ]
  },
  {
   "cell_type": "code",
   "execution_count": 17,
   "id": "8fd6df51",
   "metadata": {},
   "outputs": [],
   "source": [
    "name = 'Moussa'"
   ]
  },
  {
   "cell_type": "code",
   "execution_count": 16,
   "id": "7db5a425",
   "metadata": {},
   "outputs": [
    {
     "ename": "SyntaxError",
     "evalue": "invalid decimal literal (739953904.py, line 1)",
     "output_type": "error",
     "traceback": [
      "\u001b[1;36m  Input \u001b[1;32mIn [16]\u001b[1;36m\u001b[0m\n\u001b[1;33m    123_var = 10\u001b[0m\n\u001b[1;37m       ^\u001b[0m\n\u001b[1;31mSyntaxError\u001b[0m\u001b[1;31m:\u001b[0m invalid decimal literal\n"
     ]
    }
   ],
   "source": [
    "123_var = 10"
   ]
  },
  {
   "cell_type": "code",
   "execution_count": 18,
   "id": "8f166bc4",
   "metadata": {},
   "outputs": [],
   "source": [
    "var_123 =4"
   ]
  },
  {
   "cell_type": "code",
   "execution_count": 28,
   "id": "77a26514",
   "metadata": {},
   "outputs": [],
   "source": [
    "x = 1\n",
    "y  = 2\n",
    "z = x+ y"
   ]
  },
  {
   "cell_type": "code",
   "execution_count": 29,
   "id": "fdcbad70",
   "metadata": {},
   "outputs": [
    {
     "data": {
      "text/plain": [
       "3"
      ]
     },
     "execution_count": 29,
     "metadata": {},
     "output_type": "execute_result"
    }
   ],
   "source": [
    "z"
   ]
  },
  {
   "cell_type": "code",
   "execution_count": 25,
   "id": "59850171",
   "metadata": {},
   "outputs": [],
   "source": [
    "x = \"Moussa\""
   ]
  },
  {
   "cell_type": "code",
   "execution_count": 26,
   "id": "8b795811",
   "metadata": {},
   "outputs": [
    {
     "data": {
      "text/plain": [
       "'Moussa'"
      ]
     },
     "execution_count": 26,
     "metadata": {},
     "output_type": "execute_result"
    }
   ],
   "source": [
    "x"
   ]
  },
  {
   "cell_type": "code",
   "execution_count": 27,
   "id": "a2a6fd5e",
   "metadata": {},
   "outputs": [
    {
     "name": "stdout",
     "output_type": "stream",
     "text": [
      "Moussa\n"
     ]
    }
   ],
   "source": [
    "print(x)"
   ]
  },
  {
   "cell_type": "code",
   "execution_count": 30,
   "id": "a6f301b6",
   "metadata": {},
   "outputs": [],
   "source": [
    "name = 'Madison'"
   ]
  },
  {
   "cell_type": "code",
   "execution_count": 31,
   "id": "068c6cdd",
   "metadata": {},
   "outputs": [
    {
     "name": "stdout",
     "output_type": "stream",
     "text": [
      "Hello Madison welcome to REU\n"
     ]
    }
   ],
   "source": [
    "print('Hello',name,\"welcome to REU\")"
   ]
  },
  {
   "cell_type": "code",
   "execution_count": 32,
   "id": "f979f623",
   "metadata": {},
   "outputs": [
    {
     "name": "stdout",
     "output_type": "stream",
     "text": [
      "Hello Madison welcome to REU\n"
     ]
    }
   ],
   "source": [
    "print('Hello '+ name+\" welcome to REU\")"
   ]
  },
  {
   "cell_type": "code",
   "execution_count": 33,
   "id": "39de59a9",
   "metadata": {},
   "outputs": [],
   "source": [
    "first_name = 'Madison'\n",
    "last_name = 'Norwood'"
   ]
  },
  {
   "cell_type": "code",
   "execution_count": 34,
   "id": "2037c0c6",
   "metadata": {},
   "outputs": [
    {
     "name": "stdout",
     "output_type": "stream",
     "text": [
      "Hello HU! My first name is: Madison and my last name is Norwood\n"
     ]
    }
   ],
   "source": [
    "print('Hello HU! My first name is {one} and my last name is {two}'.format(two=last_name,one=first_name))"
   ]
  },
  {
   "cell_type": "code",
   "execution_count": null,
   "id": "8fec9e26",
   "metadata": {},
   "outputs": [],
   "source": []
  },
  {
   "cell_type": "code",
   "execution_count": 36,
   "id": "168575c0",
   "metadata": {},
   "outputs": [
    {
     "name": "stdout",
     "output_type": "stream",
     "text": [
      "Hello HU! My first name is Madison and my last name is Norwood\n"
     ]
    }
   ],
   "source": [
    "print('Hello HU! My first name is {} and my last name is {}'.format(first_name,last_name ))"
   ]
  },
  {
   "cell_type": "code",
   "execution_count": 37,
   "id": "1852e1db",
   "metadata": {},
   "outputs": [
    {
     "name": "stdout",
     "output_type": "stream",
     "text": [
      "Hello HU! My first name is Norwood and my last name is Madison\n"
     ]
    }
   ],
   "source": [
    "print('Hello HU! My first name is {} and my last name is {}'.format(last_name, first_name))"
   ]
  },
  {
   "cell_type": "code",
   "execution_count": null,
   "id": "851ac811",
   "metadata": {},
   "outputs": [],
   "source": []
  }
 ],
 "metadata": {
  "kernelspec": {
   "display_name": "Python 3 (ipykernel)",
   "language": "python",
   "name": "python3"
  },
  "language_info": {
   "codemirror_mode": {
    "name": "ipython",
    "version": 3
   },
   "file_extension": ".py",
   "mimetype": "text/x-python",
   "name": "python",
   "nbconvert_exporter": "python",
   "pygments_lexer": "ipython3",
   "version": "3.9.12"
  }
 },
 "nbformat": 4,
 "nbformat_minor": 5
}
